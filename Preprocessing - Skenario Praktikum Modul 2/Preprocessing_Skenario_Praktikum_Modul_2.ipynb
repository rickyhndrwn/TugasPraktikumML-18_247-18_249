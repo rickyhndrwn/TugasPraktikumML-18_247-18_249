{
  "nbformat": 4,
  "nbformat_minor": 0,
  "metadata": {
    "colab": {
      "name": "Preprocessing - Skenario Praktikum Modul 2.ipynb",
      "provenance": [],
      "collapsed_sections": []
    },
    "kernelspec": {
      "name": "python3",
      "display_name": "Python 3"
    },
    "language_info": {
      "name": "python"
    }
  },
  "cells": [
    {
      "cell_type": "code",
      "metadata": {
        "colab": {
          "base_uri": "https://localhost:8080/"
        },
        "id": "slFXUNx59iBG",
        "outputId": "55f4ed33-20e6-4d51-e2b0-30fa847242fa"
      },
      "source": [
        "from google.colab import drive\n",
        "drive.mount('/content/drive')"
      ],
      "execution_count": 16,
      "outputs": [
        {
          "output_type": "stream",
          "name": "stdout",
          "text": [
            "Drive already mounted at /content/drive; to attempt to forcibly remount, call drive.mount(\"/content/drive\", force_remount=True).\n"
          ]
        }
      ]
    },
    {
      "cell_type": "code",
      "metadata": {
        "id": "YrQM6pVvI8md"
      },
      "source": [
        "import os"
      ],
      "execution_count": 2,
      "outputs": []
    },
    {
      "cell_type": "code",
      "metadata": {
        "id": "Hc39Kdsmtkld"
      },
      "source": [
        "base_dir = '/content/drive/MyDrive/Pembelajaran Mesin/Tugas Kelompok Praktikum/Dataset/chest_xray'"
      ],
      "execution_count": 3,
      "outputs": []
    },
    {
      "cell_type": "code",
      "metadata": {
        "id": "sVz3a1L2s__k"
      },
      "source": [
        "train_dir = base_dir + '/train'\n",
        "norm_train_dir = train_dir + '/NORMAL'\n",
        "pneu_train_dir = train_dir + '/PNEUMONIA'\n",
        "\n",
        "test_dir = base_dir + '/test'\n",
        "norm_test_dir = test_dir + '/NORMAL'\n",
        "pneu_test_dir = test_dir + '/PNEUMONIA'\n",
        "\n",
        "val_dir = base_dir + '/val'\n",
        "norm_val_dir = val_dir + '/NORMAL'\n",
        "pneu_val_dir = val_dir + '/PNEUMONIA'"
      ],
      "execution_count": 4,
      "outputs": []
    },
    {
      "cell_type": "code",
      "metadata": {
        "colab": {
          "base_uri": "https://localhost:8080/"
        },
        "id": "HOiK6y13vCaZ",
        "outputId": "08e06211-7b84-47fa-d873-882a03dfc872"
      },
      "source": [
        "print(\"Total Training NORMAL:\", len(os.listdir(norm_train_dir)))\n",
        "print(\"Total Training PNEUMONIA:\", len(os.listdir(pneu_train_dir)))\n",
        "print('-'*30)\n",
        "print(\"Total Testing NORMAL:\", len(os.listdir(norm_test_dir)))\n",
        "print(\"Total Testing PNEUMONIA:\", len(os.listdir(pneu_test_dir)))\n",
        "print('-'*30)\n",
        "print(\"Total validation NORMAL:\", len(os.listdir(norm_val_dir)))\n",
        "print(\"Total validation PNEUMONIA:\", len(os.listdir(pneu_val_dir)))"
      ],
      "execution_count": 5,
      "outputs": [
        {
          "output_type": "stream",
          "name": "stdout",
          "text": [
            "Total Training NORMAL: 1341\n",
            "Total Training PNEUMONIA: 3875\n",
            "------------------------------\n",
            "Total Testing NORMAL: 234\n",
            "Total Testing PNEUMONIA: 390\n",
            "------------------------------\n",
            "Total validation NORMAL: 8\n",
            "Total validation PNEUMONIA: 8\n"
          ]
        }
      ]
    },
    {
      "cell_type": "code",
      "metadata": {
        "colab": {
          "base_uri": "https://localhost:8080/"
        },
        "id": "1Di6g8IWwK-q",
        "outputId": "fdafd612-0566-4727-e01d-2b3a69a31410"
      },
      "source": [
        "print(os.listdir(norm_train_dir)[:3])\n",
        "print(os.listdir(pneu_train_dir)[:3])"
      ],
      "execution_count": 6,
      "outputs": [
        {
          "output_type": "stream",
          "name": "stdout",
          "text": [
            "['IM-0524-0001.jpeg', 'IM-0525-0001-0001.jpeg', 'IM-0525-0001-0002.jpeg']\n",
            "['person540_bacteria_2271.jpeg', 'person540_bacteria_2272.jpeg', 'person540_bacteria_2273.jpeg']\n"
          ]
        }
      ]
    },
    {
      "cell_type": "markdown",
      "metadata": {
        "id": "k7krZaq6wZ1e"
      },
      "source": [
        ""
      ]
    },
    {
      "cell_type": "code",
      "metadata": {
        "id": "L8bSVsutwacC"
      },
      "source": [
        "import cv2\n",
        "import numpy as np"
      ],
      "execution_count": 7,
      "outputs": []
    },
    {
      "cell_type": "code",
      "metadata": {
        "id": "ZJkusrJnwb2j"
      },
      "source": [
        "\"\"\"\n",
        "Fungsi untuk gather data,\n",
        "Menerima 1 parameter berupa direktori data,\n",
        "Return 2 list,\n",
        "\"\"\"\n",
        "def gather_data(data_dir):\n",
        "    dir_data = []\n",
        "    dir_label = []\n",
        "\n",
        "    for dirpath, dirnames, filenames in os.walk(data_dir):\n",
        "        for file in filenames:\n",
        "            if \".jpeg\" in file:\n",
        "                imagePath = os.path.join(dirpath, file)\n",
        "                image = cv2.imread(imagePath)\n",
        "                image = cv2.resize(image, (250,250))\n",
        "                dir_data.append(image)\n",
        "                label = imagePath.split(os.path.sep)[-2]\n",
        "                dir_label.append(label)\n",
        "\n",
        "    dir_data = np.array(dir_data)\n",
        "    dir_label = np.array(dir_label)\n",
        "\n",
        "    return dir_data, dir_label"
      ],
      "execution_count": 8,
      "outputs": []
    },
    {
      "cell_type": "code",
      "metadata": {
        "id": "CB_yfsZuwjQG"
      },
      "source": [
        "# Gather data train\n",
        "train_data, train_label = gather_data(train_dir)\n",
        "# Gather data test\n",
        "test_data, test_label = gather_data(test_dir)\n",
        "# Gather data val\n",
        "val_data, val_label = gather_data(val_dir)"
      ],
      "execution_count": 9,
      "outputs": []
    },
    {
      "cell_type": "code",
      "metadata": {
        "id": "Z_6EXrKsw5GB",
        "colab": {
          "base_uri": "https://localhost:8080/"
        },
        "outputId": "9fe83872-a85c-41dd-ad2d-026daab6c120"
      },
      "source": [
        "print(\"Train Data = \", train_data.shape)\n",
        "print(\"Train Label = \", train_label.shape)\n",
        "print('-'*30)\n",
        "print(\"Test Data = \", test_data.shape)\n",
        "print(\"Test Label = \", test_label.shape)\n",
        "print('-'*30)\n",
        "print(\"Val Data = \", val_data.shape)\n",
        "print(\"Val Label = \", val_label.shape)"
      ],
      "execution_count": 10,
      "outputs": [
        {
          "output_type": "stream",
          "name": "stdout",
          "text": [
            "Train Data =  (5216, 250, 250, 3)\n",
            "Train Label =  (5216,)\n",
            "------------------------------\n",
            "Test Data =  (624, 250, 250, 3)\n",
            "Test Label =  (624,)\n",
            "------------------------------\n",
            "Val Data =  (16, 250, 250, 3)\n",
            "Val Label =  (16,)\n"
          ]
        }
      ]
    },
    {
      "cell_type": "code",
      "metadata": {
        "id": "Kq0R6rNhxOt2",
        "colab": {
          "base_uri": "https://localhost:8080/"
        },
        "outputId": "80e3fc99-91fc-419a-8c71-9a0c34336133"
      },
      "source": [
        "# Normalisasi dataset\n",
        "print(\"Data sebelum di-normalisasi \", train_data[0][0][0])\n",
        "\n",
        "x_train = train_data.astype('float32') / 255.0\n",
        "x_test = test_data.astype('float32') / 255.0\n",
        "x_val = val_data.astype('float32') / 255.0\n",
        "print(\"Data setelah di-normalisasi \", x_train[0][0][0])"
      ],
      "execution_count": 11,
      "outputs": [
        {
          "output_type": "stream",
          "name": "stdout",
          "text": [
            "Data sebelum di-normalisasi  [0 0 0]\n",
            "Data setelah di-normalisasi  [0. 0. 0.]\n"
          ]
        }
      ]
    },
    {
      "cell_type": "code",
      "metadata": {
        "colab": {
          "base_uri": "https://localhost:8080/"
        },
        "id": "cvia3E6yxjrk",
        "outputId": "910bc55e-8209-4a44-a8c3-3ad43dac76a3"
      },
      "source": [
        "train_label[1336:1346]"
      ],
      "execution_count": 12,
      "outputs": [
        {
          "output_type": "execute_result",
          "data": {
            "text/plain": [
              "array(['NORMAL', 'NORMAL', 'NORMAL', 'NORMAL', 'NORMAL', 'PNEUMONIA',\n",
              "       'PNEUMONIA', 'PNEUMONIA', 'PNEUMONIA', 'PNEUMONIA'], dtype='<U9')"
            ]
          },
          "metadata": {},
          "execution_count": 12
        }
      ]
    },
    {
      "cell_type": "code",
      "metadata": {
        "id": "06RHBr_jxUe6",
        "colab": {
          "base_uri": "https://localhost:8080/"
        },
        "outputId": "92857983-008a-4e4f-c24e-cc4497e26843"
      },
      "source": [
        "# Transformasi label encoder\n",
        "from sklearn.preprocessing import LabelEncoder\n",
        "\n",
        "print(\"Label sebelum di-encoder \", train_label[1336:1346])\n",
        "\n",
        "lb = LabelEncoder()\n",
        "y_train = lb.fit_transform(train_label)\n",
        "y_test = lb.fit_transform(test_label)\n",
        "y_val = lb.fit_transform(val_label)\n",
        "\n",
        "print(\"Label setelah di-encoder \", y_train[1336:1346])"
      ],
      "execution_count": 18,
      "outputs": [
        {
          "output_type": "stream",
          "name": "stdout",
          "text": [
            "Label sebelum di-encoder  ['NORMAL' 'NORMAL' 'NORMAL' 'NORMAL' 'NORMAL' 'PNEUMONIA' 'PNEUMONIA'\n",
            " 'PNEUMONIA' 'PNEUMONIA' 'PNEUMONIA']\n",
            "Label setelah di-encoder  [0 0 0 0 0 1 1 1 1 1]\n"
          ]
        }
      ]
    },
    {
      "cell_type": "code",
      "metadata": {
        "id": "dQKqWTGkyTFM"
      },
      "source": [
        "data_label_save_dir = '/content/drive/MyDrive/Pembelajaran Mesin/Tugas Kelompok Praktikum/Hasil Preprocessing - Skenario Praktikum Modul 2'\n",
        "preprocessed_data = [x_train, y_train, x_test, y_test, x_val, y_val]\n",
        "preprocessed_file_name = ['x_train', 'y_train', 'x_test', 'y_test', 'x_val', 'y_val']\n",
        "for i, file_name in enumerate(preprocessed_file_name):\n",
        "    np.save(data_label_save_dir + '/' + file_name + '.npy', preprocessed_data[i])"
      ],
      "execution_count": 24,
      "outputs": []
    }
  ]
}