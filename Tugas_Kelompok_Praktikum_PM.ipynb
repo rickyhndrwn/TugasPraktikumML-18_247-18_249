{
  "nbformat": 4,
  "nbformat_minor": 0,
  "metadata": {
    "colab": {
      "name": "Tugas Kelompok Praktikum PM.ipynb",
      "provenance": []
    },
    "kernelspec": {
      "name": "python3",
      "display_name": "Python 3"
    },
    "language_info": {
      "name": "python"
    }
  },
  "cells": [
    {
      "cell_type": "code",
      "metadata": {
        "colab": {
          "base_uri": "https://localhost:8080/"
        },
        "id": "slFXUNx59iBG",
        "outputId": "91f9998c-6360-4fc1-ce95-bff86486c661"
      },
      "source": [
        "from google.colab import drive\n",
        "drive.mount('/content/drive')"
      ],
      "execution_count": 1,
      "outputs": [
        {
          "output_type": "stream",
          "name": "stdout",
          "text": [
            "Mounted at /content/drive\n"
          ]
        }
      ]
    },
    {
      "cell_type": "code",
      "metadata": {
        "id": "Hc39Kdsmtkld"
      },
      "source": [
        "base_dir = '/content/drive/MyDrive/Dataset/chest_xray'"
      ],
      "execution_count": 10,
      "outputs": []
    },
    {
      "cell_type": "code",
      "metadata": {
        "id": "sVz3a1L2s__k"
      },
      "source": [
        "train_dir = base_dir + '/train'\n",
        "norm_train_dir = train_dir + '/NORMAL'\n",
        "pneu_train_dir = train_dir + '/PNEUMONIA'\n",
        "\n",
        "test_dir = base_dir + '/test'\n",
        "norm_test_dir = test_dir + '/NORMAL'\n",
        "pneu_test_dir = test_dir + '/PNEUMONIA'\n",
        "\n",
        "val_dir = base_dir + '/val'\n",
        "norm_val_dir = val_dir + '/NORMAL'\n",
        "pneu_val_dir = val_dir + '/PNEUMONIA'"
      ],
      "execution_count": 11,
      "outputs": []
    },
    {
      "cell_type": "code",
      "metadata": {
        "colab": {
          "base_uri": "https://localhost:8080/"
        },
        "id": "HOiK6y13vCaZ",
        "outputId": "746e5ed4-25d8-46d1-97b3-8f107560b50e"
      },
      "source": [
        "print(\"Total Training NORMAL:\", len(os.listdir(norm_train_dir)))\n",
        "print(\"Total Training PNEUMONIA:\", len(os.listdir(pneu_train_dir)))\n",
        "print('-'*30)\n",
        "print(\"Total Testing NORMAL:\", len(os.listdir(norm_test_dir)))\n",
        "print(\"Total Testing PNEUMONIA:\", len(os.listdir(pneu_test_dir)))\n",
        "print('-'*30)\n",
        "print(\"Total validation NORMAL:\", len(os.listdir(norm_val_dir)))\n",
        "print(\"Total validation PNEUMONIA:\", len(os.listdir(pneu_val_dir)))"
      ],
      "execution_count": 14,
      "outputs": [
        {
          "output_type": "stream",
          "name": "stdout",
          "text": [
            "Total Training NORMAL: 1341\n",
            "Total Training PNEUMONIA: 3875\n",
            "------------------------------\n",
            "Total Testing NORMAL: 234\n",
            "Total Testing PNEUMONIA: 390\n",
            "------------------------------\n",
            "Total validation NORMAL: 8\n",
            "Total validation PNEUMONIA: 8\n"
          ]
        }
      ]
    },
    {
      "cell_type": "code",
      "metadata": {
        "colab": {
          "base_uri": "https://localhost:8080/"
        },
        "id": "1Di6g8IWwK-q",
        "outputId": "1c01e277-950d-4e50-f9b2-b1df0a609f7f"
      },
      "source": [
        "print(os.listdir(norm_train_dir)[:3])\n",
        "print(os.listdir(pneu_train_dir)[:3])"
      ],
      "execution_count": 15,
      "outputs": [
        {
          "output_type": "stream",
          "name": "stdout",
          "text": [
            "['IM-0115-0001.jpeg', 'IM-0117-0001.jpeg', 'IM-0119-0001.jpeg']\n",
            "['person1000_bacteria_2931.jpeg', 'person1000_virus_1681.jpeg', 'person1001_bacteria_2932.jpeg']\n"
          ]
        }
      ]
    },
    {
      "cell_type": "markdown",
      "metadata": {
        "id": "k7krZaq6wZ1e"
      },
      "source": [
        ""
      ]
    },
    {
      "cell_type": "code",
      "metadata": {
        "id": "L8bSVsutwacC"
      },
      "source": [
        "import cv2\n",
        "import numpy as np"
      ],
      "execution_count": 16,
      "outputs": []
    },
    {
      "cell_type": "code",
      "metadata": {
        "id": "ZJkusrJnwb2j"
      },
      "source": [
        "\"\"\"\n",
        "Fungsi untuk gather data,\n",
        "Menerima 1 parameter berupa direktori data,\n",
        "Return 2 list,\n",
        "\"\"\"\n",
        "def gather_data(data_dir):\n",
        "    dir_data = []\n",
        "    dir_label = []\n",
        "\n",
        "    for dirpath, dirnames, filenames in os.walk(data_dir):\n",
        "        for file in filenames:\n",
        "            if \".jpeg\" in file:\n",
        "                imagePath = os.path.join(dirpath, file)\n",
        "                image = cv2.imread(imagePath)\n",
        "                image = cv2.resize(image, (250,250))\n",
        "                dir_data.append(image)\n",
        "                label = imagePath.split(os.path.sep)[-2]\n",
        "                dir_label.append(label)\n",
        "\n",
        "    dir_data = np.array(dir_data)\n",
        "    dir_label = np.array(dir_label)\n",
        "\n",
        "    return dir_data, dir_label"
      ],
      "execution_count": 17,
      "outputs": []
    },
    {
      "cell_type": "code",
      "metadata": {
        "id": "CB_yfsZuwjQG"
      },
      "source": [
        "# Gather data train\n",
        "train_data, train_label = gather_data(train_dir)\n",
        "# Gather data test\n",
        "test_data, test_label = gather_data(test_dir)\n",
        "# Gather data val\n",
        "val_data, val_label = gather_data(val_dir)"
      ],
      "execution_count": 19,
      "outputs": []
    },
    {
      "cell_type": "code",
      "metadata": {
        "colab": {
          "base_uri": "https://localhost:8080/"
        },
        "id": "Z_6EXrKsw5GB",
        "outputId": "5552d448-90e0-4d24-d9bf-2aa414ed6de0"
      },
      "source": [
        "print(\"Train Data = \", train_data.shape)\n",
        "print(\"Train Label = \", train_label.shape)\n",
        "print('-'*30)\n",
        "print(\"Test Data = \", test_data.shape)\n",
        "print(\"Test Label = \", test_label.shape)\n",
        "print('-'*30)\n",
        "print(\"Val Data = \", val_data.shape)\n",
        "print(\"Val Label = \", val_label.shape)"
      ],
      "execution_count": 20,
      "outputs": [
        {
          "output_type": "stream",
          "name": "stdout",
          "text": [
            "Train Data =  (5216, 250, 250, 3)\n",
            "Train Label =  (5216,)\n",
            "------------------------------\n",
            "Test Data =  (624, 250, 250, 3)\n",
            "Test Label =  (624,)\n",
            "------------------------------\n",
            "Val Data =  (16, 250, 250, 3)\n",
            "Val Label =  (16,)\n"
          ]
        }
      ]
    },
    {
      "cell_type": "code",
      "metadata": {
        "colab": {
          "base_uri": "https://localhost:8080/"
        },
        "id": "Kq0R6rNhxOt2",
        "outputId": "d5bc9280-b951-452a-d5ca-74b377d3e0e7"
      },
      "source": [
        "# Normalisasi dataset\n",
        "print(\"Data sebelum di-normalisasi \", train_data[0][0][0])\n",
        "\n",
        "x_train = train_data.astype('float32') / 255.0\n",
        "x_test = test_data.astype('float32') / 255.0\n",
        "x_val = val_data.astype('float32') / 255.0\n",
        "print(\"Data setelah di-normalisasi \", x_train[0][0][0])"
      ],
      "execution_count": 26,
      "outputs": [
        {
          "output_type": "stream",
          "name": "stdout",
          "text": [
            "Data sebelum di-normalisasi  [23 23 23]\n",
            "Data setelah di-normalisasi  [0.09019608 0.09019608 0.09019608]\n"
          ]
        }
      ]
    },
    {
      "cell_type": "code",
      "metadata": {
        "colab": {
          "base_uri": "https://localhost:8080/"
        },
        "id": "cvia3E6yxjrk",
        "outputId": "7f09a203-5123-4946-8370-8fcd3dd2af5b"
      },
      "source": [
        "train_label[1336:1346]"
      ],
      "execution_count": 23,
      "outputs": [
        {
          "output_type": "execute_result",
          "data": {
            "text/plain": [
              "array(['NORMAL', 'NORMAL', 'NORMAL', 'NORMAL', 'NORMAL', 'PNEUMONIA',\n",
              "       'PNEUMONIA', 'PNEUMONIA', 'PNEUMONIA', 'PNEUMONIA'], dtype='<U9')"
            ]
          },
          "metadata": {},
          "execution_count": 23
        }
      ]
    },
    {
      "cell_type": "code",
      "metadata": {
        "colab": {
          "base_uri": "https://localhost:8080/"
        },
        "id": "06RHBr_jxUe6",
        "outputId": "79b1125a-cce7-4e7d-b32c-42573b71fef8"
      },
      "source": [
        "# Transformasi label encoder\n",
        "from sklearn.preprocessing import LabelEncoder\n",
        "\n",
        "print(\"Label sebelum di-encoder \", train_label[1336:1346])\n",
        "\n",
        "lb = LabelEncoder()\n",
        "y_train = lb.fit_transform(train_label)\n",
        "y_test = lb.fit_transform(test_label)\n",
        "y_val = lb.fit_transform(val_label)\n",
        "\n",
        "print(\"Label setelah di-encoder \", y_train[1336:1346])"
      ],
      "execution_count": 27,
      "outputs": [
        {
          "output_type": "stream",
          "name": "stdout",
          "text": [
            "Label sebelum di-encoder  ['NORMAL' 'NORMAL' 'NORMAL' 'NORMAL' 'NORMAL' 'PNEUMONIA' 'PNEUMONIA'\n",
            " 'PNEUMONIA' 'PNEUMONIA' 'PNEUMONIA']\n",
            "Label setelah di-encoder  [0 0 0 0 0 1 1 1 1 1]\n"
          ]
        }
      ]
    },
    {
      "cell_type": "code",
      "metadata": {
        "id": "dQKqWTGkyTFM"
      },
      "source": [
        ""
      ],
      "execution_count": null,
      "outputs": []
    }
  ]
}