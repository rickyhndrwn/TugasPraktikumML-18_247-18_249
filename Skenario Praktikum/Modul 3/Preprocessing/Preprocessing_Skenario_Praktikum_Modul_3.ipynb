{
  "nbformat": 4,
  "nbformat_minor": 0,
  "metadata": {
    "colab": {
      "name": "Preprocessing_Skenario_Praktikum_Modul_3.ipynb",
      "provenance": [],
      "collapsed_sections": [
        "mgJO8mPEVza0",
        "McgdBya8V2r7",
        "Tj2PwmRiV-7J",
        "dgNTA8_40oVT"
      ],
      "toc_visible": true
    },
    "kernelspec": {
      "name": "python3",
      "display_name": "Python 3"
    },
    "language_info": {
      "name": "python"
    }
  },
  "cells": [
    {
      "cell_type": "markdown",
      "metadata": {
        "id": "DJuVoAefYr_B"
      },
      "source": [
        "## Preprocessing - Skenario Praktikum Modul 3"
      ]
    },
    {
      "cell_type": "markdown",
      "metadata": {
        "id": "mgJO8mPEVza0"
      },
      "source": [
        "### Splitting ulang data"
      ]
    },
    {
      "cell_type": "code",
      "metadata": {
        "colab": {
          "base_uri": "https://localhost:8080/"
        },
        "id": "JDlF2uueJpfq",
        "outputId": "ff269bdf-834f-4106-f17b-265c9a19c59b"
      },
      "source": [
        "# !pip install split-folders"
      ],
      "execution_count": null,
      "outputs": [
        {
          "output_type": "stream",
          "name": "stdout",
          "text": [
            "Collecting split-folders\n",
            "  Downloading split_folders-0.4.3-py3-none-any.whl (7.4 kB)\n",
            "Installing collected packages: split-folders\n",
            "Successfully installed split-folders-0.4.3\n"
          ]
        }
      ]
    },
    {
      "cell_type": "code",
      "metadata": {
        "colab": {
          "base_uri": "https://localhost:8080/"
        },
        "id": "5muJSl3dJzZQ",
        "outputId": "f307a6a9-d529-4069-fde6-5f74da823dd1"
      },
      "source": [
        "# import splitfolders\n",
        "\n",
        "# input_dir = base_dir\n",
        "# output_dir = input_dir + '/splitted_data'\n",
        "\n",
        "# splitfolders.ratio(input_dir, output=output_dir, seed=247, ratio=(.8, .19, .01))"
      ],
      "execution_count": null,
      "outputs": [
        {
          "output_type": "stream",
          "name": "stderr",
          "text": [
            "Copying files: 5856 files [01:49, 53.65 files/s]\n"
          ]
        }
      ]
    },
    {
      "cell_type": "markdown",
      "metadata": {
        "id": "McgdBya8V2r7"
      },
      "source": [
        "### Define direktori data"
      ]
    },
    {
      "cell_type": "code",
      "metadata": {
        "id": "ruzAzbZjti_k"
      },
      "source": [
        "import os"
      ],
      "execution_count": 1,
      "outputs": []
    },
    {
      "cell_type": "code",
      "metadata": {
        "id": "NNMN7ioE_uX6"
      },
      "source": [
        "base_dir = '/content/drive/MyDrive/Dataset/chest_xray'\n",
        "\n",
        "splitted_dir = os.path.join(base_dir, 'splitted_data')\n",
        "\n",
        "train_dir = os.path.join(splitted_dir, 'train')\n",
        "norm_train_dir = os.path.join(train_dir, 'normal')\n",
        "pneu_train_dir = os.path.join(train_dir, 'pneumonia')\n",
        "\n",
        "val_dir = os.path.join(splitted_dir, 'val')\n",
        "norm_val_dir = os.path.join(val_dir, 'normal')\n",
        "pneu_val_dir = os.path.join(val_dir, 'pneumonia')\n",
        "\n",
        "test_dir = os.path.join(splitted_dir, 'test')\n",
        "norm_test_dir = os.path.join(test_dir, 'normal')\n",
        "pneu_test_dir = os.path.join(test_dir, 'pneumonia')"
      ],
      "execution_count": 8,
      "outputs": []
    },
    {
      "cell_type": "code",
      "metadata": {
        "colab": {
          "base_uri": "https://localhost:8080/"
        },
        "id": "FdBppg_-_4az",
        "outputId": "8bdd1566-b082-4a04-b239-c1fdcc2d1c45"
      },
      "source": [
        "print(\"Total Training NORMAL:\", len(os.listdir(norm_train_dir)))\n",
        "print(\"Total Training PNEUMONIA:\", len(os.listdir(pneu_train_dir)))\n",
        "print('-'*30)\n",
        "print(\"Total validation NORMAL:\", len(os.listdir(norm_val_dir)))\n",
        "print(\"Total validation PNEUMONIA:\", len(os.listdir(pneu_val_dir)))\n",
        "print('-'*30)\n",
        "print(\"Total Testing NORMAL:\", len(os.listdir(norm_test_dir)))\n",
        "print(\"Total Testing PNEUMONIA:\", len(os.listdir(pneu_test_dir)))"
      ],
      "execution_count": 12,
      "outputs": [
        {
          "output_type": "stream",
          "name": "stdout",
          "text": [
            "Total Training NORMAL: 1266\n",
            "Total Training PNEUMONIA: 3418\n",
            "------------------------------\n",
            "Total validation NORMAL: 300\n",
            "Total validation PNEUMONIA: 811\n",
            "------------------------------\n",
            "Total Testing NORMAL: 17\n",
            "Total Testing PNEUMONIA: 44\n"
          ]
        }
      ]
    },
    {
      "cell_type": "markdown",
      "metadata": {
        "id": "Tj2PwmRiV-7J"
      },
      "source": [
        "### Augmentasi"
      ]
    },
    {
      "cell_type": "code",
      "metadata": {
        "id": "uEyy6L-gWAZM"
      },
      "source": [
        "from tensorflow.keras.preprocessing.image import ImageDataGenerator"
      ],
      "execution_count": 10,
      "outputs": []
    },
    {
      "cell_type": "code",
      "metadata": {
        "colab": {
          "base_uri": "https://localhost:8080/"
        },
        "id": "ALFRWlp_WIae",
        "outputId": "7549513c-2166-4ed9-b747-bbfb989a7c63"
      },
      "source": [
        "# data augmentation\n",
        "new_size = (150,150)\n",
        "\n",
        "train_val_gen = ImageDataGenerator(rescale = 1./255.,\n",
        "                                   rotation_range=30,\n",
        "                                   zoom_range=0.4,\n",
        "                                   vertical_flip=True,\n",
        "                                   horizontal_flip=True)\n",
        "\n",
        "train_generator = train_val_gen.flow_from_directory(train_dir,\n",
        "                                  target_size=new_size,\n",
        "                                  shuffle=True,\n",
        "                                  class_mode='binary'\n",
        "                                  )\n",
        "\n",
        "val_generator = train_val_gen.flow_from_directory(val_dir,\n",
        "                                  target_size=new_size,\n",
        "                                  shuffle=True,\n",
        "                                  class_mode='binary'\n",
        "                                  )\n",
        "\n",
        "test_gen = ImageDataGenerator()\n",
        "\n",
        "test_generator = test_gen.flow_from_directory(test_dir,\n",
        "                                  target_size=new_size,\n",
        "                                  shuffle=False,\n",
        "                                  class_mode='binary'\n",
        "                                  )"
      ],
      "execution_count": 28,
      "outputs": [
        {
          "output_type": "stream",
          "name": "stdout",
          "text": [
            "Found 4684 images belonging to 5 classes.\n",
            "Found 1111 images belonging to 5 classes.\n",
            "Found 61 images belonging to 5 classes.\n"
          ]
        }
      ]
    },
    {
      "cell_type": "markdown",
      "metadata": {
        "id": "dgNTA8_40oVT"
      },
      "source": [
        "### Simpan hasil preps"
      ]
    },
    {
      "cell_type": "code",
      "metadata": {
        "id": "R5ULW6EIpNCT"
      },
      "source": [
        "import numpy as np"
      ],
      "execution_count": 17,
      "outputs": []
    },
    {
      "cell_type": "code",
      "metadata": {
        "colab": {
          "base_uri": "https://localhost:8080/"
        },
        "id": "AQi_y9u0snk9",
        "outputId": "75ec028e-4e06-43bb-c2db-cf0fdf2ef784"
      },
      "source": [
        "x_train = np.concatenate([train_generator.next()[0] for _ in range(train_generator.__len__())])\n",
        "y_train = np.concatenate([train_generator.next()[1] for _ in range(train_generator.__len__())])\n",
        "\n",
        "print(x_train.shape)\n",
        "print(y_train.shape)"
      ],
      "execution_count": 31,
      "outputs": [
        {
          "output_type": "stream",
          "name": "stdout",
          "text": [
            "(4684, 150, 150, 3)\n",
            "(4684,)\n"
          ]
        }
      ]
    },
    {
      "cell_type": "code",
      "metadata": {
        "colab": {
          "base_uri": "https://localhost:8080/"
        },
        "id": "Dfxv4ka3tFyh",
        "outputId": "b1f1fc0b-c556-4ff1-90f9-7d331a89f365"
      },
      "source": [
        "x_val = np.concatenate([val_generator.next()[0] for _ in range(val_generator.__len__())])\n",
        "y_val = np.concatenate([val_generator.next()[1] for _ in range(val_generator.__len__())])\n",
        "\n",
        "print(x_val.shape)\n",
        "print(y_val.shape)"
      ],
      "execution_count": 30,
      "outputs": [
        {
          "output_type": "stream",
          "name": "stdout",
          "text": [
            "(1111, 150, 150, 3)\n",
            "(1111,)\n"
          ]
        }
      ]
    },
    {
      "cell_type": "code",
      "metadata": {
        "colab": {
          "base_uri": "https://localhost:8080/"
        },
        "id": "FY-Yggwlw_Ml",
        "outputId": "798bd29d-8ca2-4f0a-8b2f-2205865af758"
      },
      "source": [
        "x_test = np.concatenate([test_generator.next()[0] for _ in range(test_generator.__len__())])\n",
        "y_test = np.concatenate([test_generator.next()[1] for _ in range(test_generator.__len__())])\n",
        "\n",
        "print(x_test.shape)\n",
        "print(y_test.shape)"
      ],
      "execution_count": 29,
      "outputs": [
        {
          "output_type": "stream",
          "name": "stdout",
          "text": [
            "(61, 150, 150, 3)\n",
            "(61,)\n"
          ]
        }
      ]
    },
    {
      "cell_type": "code",
      "metadata": {
        "id": "W7LkYs-tyWUE"
      },
      "source": [
        "data_label_save_dir = '/content/drive/MyDrive/Informatika/Semester 7/Pembelajaran Mesin/Tugas Kelompok Praktikum/Preprocessing - Skenario Praktikum Modul 3/Hasil Preprocessing - Skenario Praktikum Modul 3'\n",
        "preprocessed_data = [x_train, y_train, x_test, y_test, x_val, y_val]\n",
        "preprocessed_file_name = ['x_train', 'y_train', 'x_test', 'y_test', 'x_val', 'y_val']\n",
        "for i, file_name in enumerate(preprocessed_file_name):\n",
        "    np.save(data_label_save_dir + '/' + file_name + '.npy', preprocessed_data[i])"
      ],
      "execution_count": 32,
      "outputs": []
    }
  ]
}