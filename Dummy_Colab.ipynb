{
  "nbformat": 4,
  "nbformat_minor": 0,
  "metadata": {
    "colab": {
      "name": "Dummy Colab.ipynb",
      "provenance": [],
      "collapsed_sections": [
        "CoIqYanm0qAZ"
      ],
      "mount_file_id": "1WkBOCCK-PhrC8I-b_WbBqGDMR8E-zlls",
      "authorship_tag": "ABX9TyOrMwpmVZkZ05Sq5/ASFTFj",
      "include_colab_link": true
    },
    "kernelspec": {
      "name": "python3",
      "display_name": "Python 3"
    }
  },
  "cells": [
    {
      "cell_type": "markdown",
      "metadata": {
        "id": "view-in-github",
        "colab_type": "text"
      },
      "source": [
        "<a href=\"https://colab.research.google.com/github/rickyhndrwn/TugasPraktikumML-18_247-18_249/blob/ricky/Dummy_Colab.ipynb\" target=\"_parent\"><img src=\"https://colab.research.google.com/assets/colab-badge.svg\" alt=\"Open In Colab\"/></a>"
      ]
    },
    {
      "cell_type": "markdown",
      "metadata": {
        "id": "CoIqYanm0qAZ"
      },
      "source": [
        "##### Dummy code"
      ]
    },
    {
      "cell_type": "code",
      "metadata": {
        "id": "fAtp7lcHtefq",
        "colab": {
          "base_uri": "https://localhost:8080/"
        },
        "outputId": "296260b0-2712-4f3b-ee91-8e99ee014341"
      },
      "source": [
        "1 + 1 // 2 + 1 / 2 + "
      ],
      "execution_count": null,
      "outputs": [
        {
          "output_type": "stream",
          "text": [
            "a'b'c\n"
          ],
          "name": "stdout"
        }
      ]
    },
    {
      "cell_type": "code",
      "metadata": {
        "colab": {
          "base_uri": "https://localhost:8080/"
        },
        "id": "6XUWGO1vP8_-",
        "outputId": "f18b96eb-7038-4535-8292-f51d7033166f"
      },
      "source": [
        "lst = [[x for x in range(3)] for y in range(3)]\n",
        "\n",
        "for r in range(3):\n",
        "    for c in range(3):\n",
        "        if lst[r][c] % 2 != 0:\n",
        "            print('#')"
      ],
      "execution_count": null,
      "outputs": [
        {
          "output_type": "stream",
          "text": [
            "#\n",
            "#\n",
            "#\n"
          ],
          "name": "stdout"
        }
      ]
    },
    {
      "cell_type": "code",
      "metadata": {
        "id": "zTjt0YNjxbz4"
      },
      "source": [
        "pip list"
      ],
      "execution_count": null,
      "outputs": []
    },
    {
      "cell_type": "code",
      "metadata": {
        "id": "U29qNMNg6Kzy"
      },
      "source": [
        "bool_cols = [col for col in data if np.isin(data[col].dropna().unique(), [0, 1]).all()]\n",
        "bool_cols"
      ],
      "execution_count": null,
      "outputs": []
    },
    {
      "cell_type": "code",
      "metadata": {
        "id": "UmsQRSOT3MXb"
      },
      "source": [
        "dummies_df = pd.DataFrame()\n",
        "for cat_col in cat_cols:\n",
        "    dummies_col = pd.get_dummies(data[cat_col])\n",
        "    dummies_df = pd.concat([dummies_df, dummies_col], axis=1)\n",
        "\n",
        "dummies_df.head()"
      ],
      "execution_count": null,
      "outputs": []
    },
    {
      "cell_type": "code",
      "metadata": {
        "id": "W89cqA0N3OC0"
      },
      "source": [
        "data = pd.concat([data, dummies_df], axis=1)\n",
        "\n",
        "data.drop(['ever_married'], axis=1, inplace=True)\n",
        "data.drop(['No'], axis=1, inplace=True)\n",
        "data.rename(columns={'Yes': 'ever_maried'}, inplace=True)\n",
        "\n",
        "data.drop(['Residence_type'], axis=1, inplace=True)\n",
        "data.drop(['Rural'], axis=1, inplace=True)\n",
        "data.rename(columns={'Urban': 'urban_residence'}, inplace=True)\n",
        "\n",
        "data.head()"
      ],
      "execution_count": null,
      "outputs": []
    },
    {
      "cell_type": "code",
      "metadata": {
        "colab": {
          "base_uri": "https://localhost:8080/"
        },
        "id": "yQsEarGWun3S",
        "outputId": "530351fb-969d-4439-a618-80b3f886da6e"
      },
      "source": [
        "le = [True, 25, 2.5, 'h', []]\n",
        "le"
      ],
      "execution_count": null,
      "outputs": [
        {
          "output_type": "execute_result",
          "data": {
            "text/plain": [
              "[True, 25, 2.5, 'h', []]"
            ]
          },
          "metadata": {
            "tags": []
          },
          "execution_count": 31
        }
      ]
    },
    {
      "cell_type": "code",
      "metadata": {
        "colab": {
          "base_uri": "https://localhost:8080/"
        },
        "id": "letMoMSMz8Kg",
        "outputId": "19bef57b-5701-420b-cdf1-464a0136100a"
      },
      "source": [
        "if a<= b:\n",
        "    print('semangat')\n",
        "if a == b:\n",
        "    print('menjalani')\n",
        "elif a==40:\n",
        "    print('pagi')\n",
        "elif b ==40:\n",
        "    printt('semua')\n",
        "a=40\n",
        "b=40"
      ],
      "execution_count": null,
      "outputs": [
        {
          "output_type": "stream",
          "text": [
            "semangat\n",
            "menjalani\n"
          ],
          "name": "stdout"
        }
      ]
    },
    {
      "cell_type": "code",
      "metadata": {
        "colab": {
          "base_uri": "https://localhost:8080/"
        },
        "id": "iVhN9eGlwpu0",
        "outputId": "e0b8d69b-6ea3-4a68-f478-fe5a412b901f"
      },
      "source": [
        "sapa = ('a', 'b')\n",
        "sapa = sapa*3\n",
        "sapa"
      ],
      "execution_count": null,
      "outputs": [
        {
          "output_type": "execute_result",
          "data": {
            "text/plain": [
              "('a', 'b', 'a', 'b', 'a', 'b')"
            ]
          },
          "metadata": {
            "tags": []
          },
          "execution_count": 32
        }
      ]
    },
    {
      "cell_type": "code",
      "metadata": {
        "colab": {
          "base_uri": "https://localhost:8080/"
        },
        "id": "CqsTgDvL5SBz",
        "outputId": "52c82fd2-fbee-49db-b9c9-1ea3e25edebd"
      },
      "source": [
        "dct = {'satu':'dua', 'tiga':'satu', 'dua':'tiga'}\n",
        "v = dct['tiga']\n",
        "for k in range(len(dct)):\n",
        "    v = dct[v]\n",
        "print(v)"
      ],
      "execution_count": null,
      "outputs": [
        {
          "output_type": "stream",
          "text": [
            "satu\n"
          ],
          "name": "stdout"
        }
      ]
    },
    {
      "cell_type": "code",
      "metadata": {
        "colab": {
          "base_uri": "https://localhost:8080/"
        },
        "id": "a7-qGEWBHkHH",
        "outputId": "121a1150-fb9f-4a7b-817c-2d23952f4029"
      },
      "source": [
        "print('\\\"')"
      ],
      "execution_count": null,
      "outputs": [
        {
          "output_type": "stream",
          "text": [
            "\"\n"
          ],
          "name": "stdout"
        }
      ]
    },
    {
      "cell_type": "code",
      "metadata": {
        "colab": {
          "base_uri": "https://localhost:8080/"
        },
        "id": "LY__JHAoDxzT",
        "outputId": "a79f7332-2e35-48da-b1e9-29061321d4fe"
      },
      "source": [
        "a = \"\\\\\\\"\n",
        "print(len(a))"
      ],
      "execution_count": null,
      "outputs": [
        {
          "output_type": "stream",
          "text": [
            "2\n"
          ],
          "name": "stdout"
        }
      ]
    },
    {
      "cell_type": "code",
      "metadata": {
        "colab": {
          "base_uri": "https://localhost:8080/"
        },
        "id": "S34i91O4DpcO",
        "outputId": "a2fa7fb6-5bf0-401c-d2eb-ebf0f4ae9bfe"
      },
      "source": [
        "def fun(inp=2, out=3):\n",
        "    return inp*out\n",
        "print(fun(out=2))"
      ],
      "execution_count": null,
      "outputs": [
        {
          "output_type": "stream",
          "text": [
            "4\n"
          ],
          "name": "stdout"
        }
      ]
    },
    {
      "cell_type": "code",
      "metadata": {
        "colab": {
          "base_uri": "https://localhost:8080/"
        },
        "id": "5-pbJ4EKDQDW",
        "outputId": "9265f9fe-4ecb-4ec7-fb2c-e54e43a13e1d"
      },
      "source": [
        "lst = [[x for x in range(3)] for y in range(3)]\n",
        "for r in range(3):\n",
        "    for c in range(3):\n",
        "        if lst[r][c]%2!=0:\n",
        "            print('c')"
      ],
      "execution_count": null,
      "outputs": [
        {
          "output_type": "stream",
          "text": [
            "c\n",
            "c\n",
            "c\n"
          ],
          "name": "stdout"
        }
      ]
    },
    {
      "cell_type": "code",
      "metadata": {
        "colab": {
          "base_uri": "https://localhost:8080/"
        },
        "id": "Cviu_E_lAsj6",
        "outputId": "301a310a-db3a-4ad8-bc6a-41da2bd443dd"
      },
      "source": [
        "a=1%2\n",
        "a"
      ],
      "execution_count": null,
      "outputs": [
        {
          "output_type": "execute_result",
          "data": {
            "text/plain": [
              "1"
            ]
          },
          "metadata": {
            "tags": []
          },
          "execution_count": 62
        }
      ]
    },
    {
      "cell_type": "code",
      "metadata": {
        "colab": {
          "base_uri": "https://localhost:8080/"
        },
        "id": "t5WQ29xh7atK",
        "outputId": "ef0323a8-8dbd-40a2-ef55-240bc818dda2"
      },
      "source": [
        "print(chr(ord('p') + 2))"
      ],
      "execution_count": null,
      "outputs": [
        {
          "output_type": "stream",
          "text": [
            "r\n"
          ],
          "name": "stdout"
        }
      ]
    },
    {
      "cell_type": "code",
      "metadata": {
        "id": "ZJnkZDEmAntS"
      },
      "source": [
        "12 ragu"
      ],
      "execution_count": null,
      "outputs": []
    },
    {
      "cell_type": "code",
      "metadata": {
        "colab": {
          "base_uri": "https://localhost:8080/"
        },
        "id": "zvz06Xiw7iFu",
        "outputId": "0fc4b074-ec51-4365-84cc-709095d3f98e"
      },
      "source": [
        "x=1\n",
        "y=1\n",
        "x=x^y\n",
        "x=x^y\n",
        "x=x&y\n",
        "x"
      ],
      "execution_count": null,
      "outputs": [
        {
          "output_type": "execute_result",
          "data": {
            "text/plain": [
              "1"
            ]
          },
          "metadata": {
            "tags": []
          },
          "execution_count": 54
        }
      ]
    },
    {
      "cell_type": "code",
      "metadata": {
        "colab": {
          "base_uri": "https://localhost:8080/"
        },
        "id": "Iku1xeNH7AWK",
        "outputId": "e1efc74f-1af9-4526-e830-9f9b471c227c"
      },
      "source": [
        "try:\n",
        "    raise Exception(1,2,3)\n",
        "except Exception as e:\n",
        "    print(len(e.args))"
      ],
      "execution_count": null,
      "outputs": [
        {
          "output_type": "stream",
          "text": [
            "3\n"
          ],
          "name": "stdout"
        }
      ]
    },
    {
      "cell_type": "code",
      "metadata": {
        "colab": {
          "base_uri": "https://localhost:8080/"
        },
        "id": "bsGfaul06wWa",
        "outputId": "dde2ba40-de97-4836-de5b-6213284854eb"
      },
      "source": [
        "x = 3\n",
        "y = 2\n",
        "x=x%y\n",
        "x=x%y\n",
        "y=y%x\n",
        "print(y)"
      ],
      "execution_count": null,
      "outputs": [
        {
          "output_type": "stream",
          "text": [
            "0\n"
          ],
          "name": "stdout"
        }
      ]
    },
    {
      "cell_type": "code",
      "metadata": {
        "colab": {
          "base_uri": "https://localhost:8080/"
        },
        "id": "gKH9SNYozQJE",
        "outputId": "9b914ae5-02ff-43be-99f4-96ca9c8b2540"
      },
      "source": [
        "lst = [[x for x in range(3)] for y in range(3)]\n",
        "lst"
      ],
      "execution_count": null,
      "outputs": [
        {
          "output_type": "execute_result",
          "data": {
            "text/plain": [
              "[[0, 1, 2], [0, 1, 2], [0, 1, 2]]"
            ]
          },
          "metadata": {
            "tags": []
          },
          "execution_count": 43
        }
      ]
    },
    {
      "cell_type": "code",
      "metadata": {
        "colab": {
          "base_uri": "https://localhost:8080/"
        },
        "id": "d0ouyVPjIUBs",
        "outputId": "8bf86f98-e1cd-44f5-de84-3c1d889f4080"
      },
      "source": [
        "a=30\n",
        "b=25\n",
        "print(a%b)"
      ],
      "execution_count": null,
      "outputs": [
        {
          "output_type": "stream",
          "text": [
            "5\n"
          ],
          "name": "stdout"
        }
      ]
    }
  ]
}